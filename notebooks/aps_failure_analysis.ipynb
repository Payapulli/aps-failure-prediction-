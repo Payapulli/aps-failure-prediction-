{
  "cells": [
    {
      "cell_type": "markdown",
      "metadata": {},
      "source": [
        "# APS Failure Prediction for Scania Trucks\n",
        "\n",
        "This notebook demonstrates machine learning techniques for predicting Air Pressure System (APS) failures in Scania trucks using sensor data.\n",
        "\n",
        "**Author**: Joshua Payapulli  \n",
        "**GitHub**: [@Payapulli](https://github.com/Payapulli)\n"
      ]
    }
  ],
  "metadata": {
    "language_info": {
      "name": "python"
    }
  },
  "nbformat": 4,
  "nbformat_minor": 2
}
